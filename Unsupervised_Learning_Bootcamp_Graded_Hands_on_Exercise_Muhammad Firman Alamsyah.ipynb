{
 "cells": [
  {
   "cell_type": "markdown",
   "metadata": {
    "id": "4vjqkJbJBmGA"
   },
   "source": [
    "### **Overview**\n",
    "\n",
    "Throughout this assignment, you will be performing specific well-defined tasks that’ll strengthen your concepts in Unsupervised Learning. We will be using the facebook live sellers dataset for Task 1 & 2 of the assignment and here is a brief context about the same - The data is about live selling feature on the Facebook platform. Each record consists of information about the time live information of sale is posted to Facebook and engagements in the data. The engagements are regular Facebook interactions such as share and emotion rection.\n",
    "\n",
    "As part of the assignment, you will have to accomplish the below tasks.\n",
    "\n",
    "\n",
    "**Author:** Chintoo Kumar"
   ]
  },
  {
   "cell_type": "markdown",
   "metadata": {
    "id": "Y5U0zsQcBW2j"
   },
   "source": [
    "###**Dataset**\n",
    "\n",
    "Dataset Link: https://archive.ics.uci.edu/ml/machine-learning-databases/00488/Live_20210128.csv\n",
    "\n",
    "**About the dataset:**\n",
    "\n",
    "The Facebook Live Sellers in Thailand is a dataset curated in UCI Machine Learning Datasets. It data contains 7050 observations and twelve attributes. In this assignment, the preprocessed dataset contains 7050 instances and 10 attributes. The details of the attributes are as follows:\n",
    "\n",
    "* status_type: The type of shared status\n",
    "* num_reactions: Number of glimpses over a shared status by viewers\n",
    "* num_comments: Number of comments on that particular shared status\n",
    "* num_shares: Toal number of shares by peers\n",
    "* num_likes: Number of likes on the post\n",
    "* num_loves: Number of love emojis of that shared post\n",
    "* num_wows: Number of wow emojis on that post\n",
    "* num_hahas: Number of haha emojis on that post\n",
    "* num_sads: Number of sad emojis on that post\n",
    "* num_angrys: Number of angry emojis on that post"
   ]
  },
  {
   "cell_type": "markdown",
   "metadata": {
    "id": "HkngU44BJ9Js"
   },
   "source": [
    "#**Author: Muhammad Firman Alamsyah**"
   ]
  },
  {
   "cell_type": "code",
   "execution_count": 99,
   "metadata": {
    "id": "pmUKJ25Ch4-D"
   },
   "outputs": [],
   "source": [
    "#importing libraries\n",
    "import pandas as pd\n",
    "import seaborn as sns\n",
    "import matplotlib as mpl\n",
    "import matplotlib.pyplot as plt\n",
    "import numpy as np\n",
    "import warnings\n",
    "warnings.filterwarnings('ignore')"
   ]
  },
  {
   "cell_type": "markdown",
   "metadata": {
    "id": "cm3-joQwuJVT"
   },
   "source": [
    "### **Task 1: Data loading and Data Analysis**\n",
    "\n",
    "* Load the data file into a dataframe object : df"
   ]
  },
  {
   "cell_type": "code",
   "execution_count": 100,
   "metadata": {
    "id": "u38NRcmGuNdb"
   },
   "outputs": [],
   "source": [
    "df=pd.read_csv('https://archive.ics.uci.edu/ml/machine-learning-databases/00488/Live_20210128.csv')"
   ]
  },
  {
   "cell_type": "markdown",
   "metadata": {
    "id": "-RdodISFxkir"
   },
   "source": [
    "* Display the first 5 observation of the dataset"
   ]
  },
  {
   "cell_type": "code",
   "execution_count": 101,
   "metadata": {
    "id": "Mw594tMdua-l",
    "scrolled": true
   },
   "outputs": [
    {
     "data": {
      "text/html": [
       "<div>\n",
       "<style scoped>\n",
       "    .dataframe tbody tr th:only-of-type {\n",
       "        vertical-align: middle;\n",
       "    }\n",
       "\n",
       "    .dataframe tbody tr th {\n",
       "        vertical-align: top;\n",
       "    }\n",
       "\n",
       "    .dataframe thead th {\n",
       "        text-align: right;\n",
       "    }\n",
       "</style>\n",
       "<table border=\"1\" class=\"dataframe\">\n",
       "  <thead>\n",
       "    <tr style=\"text-align: right;\">\n",
       "      <th></th>\n",
       "      <th>status_id</th>\n",
       "      <th>status_type</th>\n",
       "      <th>status_published</th>\n",
       "      <th>num_reactions</th>\n",
       "      <th>num_comments</th>\n",
       "      <th>num_shares</th>\n",
       "      <th>num_likes</th>\n",
       "      <th>num_loves</th>\n",
       "      <th>num_wows</th>\n",
       "      <th>num_hahas</th>\n",
       "      <th>num_sads</th>\n",
       "      <th>num_angrys</th>\n",
       "      <th>Column1</th>\n",
       "      <th>Column2</th>\n",
       "      <th>Column3</th>\n",
       "      <th>Column4</th>\n",
       "    </tr>\n",
       "  </thead>\n",
       "  <tbody>\n",
       "    <tr>\n",
       "      <th>0</th>\n",
       "      <td>1</td>\n",
       "      <td>video</td>\n",
       "      <td>4/22/2018 6:00</td>\n",
       "      <td>529</td>\n",
       "      <td>512</td>\n",
       "      <td>262</td>\n",
       "      <td>432</td>\n",
       "      <td>92</td>\n",
       "      <td>3</td>\n",
       "      <td>1</td>\n",
       "      <td>1</td>\n",
       "      <td>0</td>\n",
       "      <td>NaN</td>\n",
       "      <td>NaN</td>\n",
       "      <td>NaN</td>\n",
       "      <td>NaN</td>\n",
       "    </tr>\n",
       "    <tr>\n",
       "      <th>1</th>\n",
       "      <td>2</td>\n",
       "      <td>photo</td>\n",
       "      <td>4/21/2018 22:45</td>\n",
       "      <td>150</td>\n",
       "      <td>0</td>\n",
       "      <td>0</td>\n",
       "      <td>150</td>\n",
       "      <td>0</td>\n",
       "      <td>0</td>\n",
       "      <td>0</td>\n",
       "      <td>0</td>\n",
       "      <td>0</td>\n",
       "      <td>NaN</td>\n",
       "      <td>NaN</td>\n",
       "      <td>NaN</td>\n",
       "      <td>NaN</td>\n",
       "    </tr>\n",
       "    <tr>\n",
       "      <th>2</th>\n",
       "      <td>3</td>\n",
       "      <td>video</td>\n",
       "      <td>4/21/2018 6:17</td>\n",
       "      <td>227</td>\n",
       "      <td>236</td>\n",
       "      <td>57</td>\n",
       "      <td>204</td>\n",
       "      <td>21</td>\n",
       "      <td>1</td>\n",
       "      <td>1</td>\n",
       "      <td>0</td>\n",
       "      <td>0</td>\n",
       "      <td>NaN</td>\n",
       "      <td>NaN</td>\n",
       "      <td>NaN</td>\n",
       "      <td>NaN</td>\n",
       "    </tr>\n",
       "    <tr>\n",
       "      <th>3</th>\n",
       "      <td>4</td>\n",
       "      <td>photo</td>\n",
       "      <td>4/21/2018 2:29</td>\n",
       "      <td>111</td>\n",
       "      <td>0</td>\n",
       "      <td>0</td>\n",
       "      <td>111</td>\n",
       "      <td>0</td>\n",
       "      <td>0</td>\n",
       "      <td>0</td>\n",
       "      <td>0</td>\n",
       "      <td>0</td>\n",
       "      <td>NaN</td>\n",
       "      <td>NaN</td>\n",
       "      <td>NaN</td>\n",
       "      <td>NaN</td>\n",
       "    </tr>\n",
       "    <tr>\n",
       "      <th>4</th>\n",
       "      <td>5</td>\n",
       "      <td>photo</td>\n",
       "      <td>4/18/2018 3:22</td>\n",
       "      <td>213</td>\n",
       "      <td>0</td>\n",
       "      <td>0</td>\n",
       "      <td>204</td>\n",
       "      <td>9</td>\n",
       "      <td>0</td>\n",
       "      <td>0</td>\n",
       "      <td>0</td>\n",
       "      <td>0</td>\n",
       "      <td>NaN</td>\n",
       "      <td>NaN</td>\n",
       "      <td>NaN</td>\n",
       "      <td>NaN</td>\n",
       "    </tr>\n",
       "  </tbody>\n",
       "</table>\n",
       "</div>"
      ],
      "text/plain": [
       "   status_id status_type status_published  num_reactions  num_comments  \\\n",
       "0          1       video   4/22/2018 6:00            529           512   \n",
       "1          2       photo  4/21/2018 22:45            150             0   \n",
       "2          3       video   4/21/2018 6:17            227           236   \n",
       "3          4       photo   4/21/2018 2:29            111             0   \n",
       "4          5       photo   4/18/2018 3:22            213             0   \n",
       "\n",
       "   num_shares  num_likes  num_loves  num_wows  num_hahas  num_sads  \\\n",
       "0         262        432         92         3          1         1   \n",
       "1           0        150          0         0          0         0   \n",
       "2          57        204         21         1          1         0   \n",
       "3           0        111          0         0          0         0   \n",
       "4           0        204          9         0          0         0   \n",
       "\n",
       "   num_angrys  Column1  Column2  Column3  Column4  \n",
       "0           0      NaN      NaN      NaN      NaN  \n",
       "1           0      NaN      NaN      NaN      NaN  \n",
       "2           0      NaN      NaN      NaN      NaN  \n",
       "3           0      NaN      NaN      NaN      NaN  \n",
       "4           0      NaN      NaN      NaN      NaN  "
      ]
     },
     "execution_count": 101,
     "metadata": {},
     "output_type": "execute_result"
    }
   ],
   "source": [
    "df.head(5)"
   ]
  },
  {
   "cell_type": "markdown",
   "metadata": {
    "id": "DbjnIj7jxnFn"
   },
   "source": [
    "* Display a concise summary of the provided data and list out 2 observations/inferences that you observe from the result. You can use the info() method for this."
   ]
  },
  {
   "cell_type": "code",
   "execution_count": 103,
   "metadata": {
    "id": "mWQvrIuXu_PA"
   },
   "outputs": [
    {
     "name": "stdout",
     "output_type": "stream",
     "text": [
      "<class 'pandas.core.frame.DataFrame'>\n",
      "RangeIndex: 7050 entries, 0 to 7049\n",
      "Data columns (total 16 columns):\n",
      " #   Column            Non-Null Count  Dtype  \n",
      "---  ------            --------------  -----  \n",
      " 0   status_id         7050 non-null   int64  \n",
      " 1   status_type       7050 non-null   object \n",
      " 2   status_published  7050 non-null   object \n",
      " 3   num_reactions     7050 non-null   int64  \n",
      " 4   num_comments      7050 non-null   int64  \n",
      " 5   num_shares        7050 non-null   int64  \n",
      " 6   num_likes         7050 non-null   int64  \n",
      " 7   num_loves         7050 non-null   int64  \n",
      " 8   num_wows          7050 non-null   int64  \n",
      " 9   num_hahas         7050 non-null   int64  \n",
      " 10  num_sads          7050 non-null   int64  \n",
      " 11  num_angrys        7050 non-null   int64  \n",
      " 12  Column1           0 non-null      float64\n",
      " 13  Column2           0 non-null      float64\n",
      " 14  Column3           0 non-null      float64\n",
      " 15  Column4           0 non-null      float64\n",
      "dtypes: float64(4), int64(10), object(2)\n",
      "memory usage: 881.4+ KB\n"
     ]
    },
    {
     "data": {
      "text/plain": [
       "\"\\nSummary\\n-There are 7050 rows and 16 columns from the dataset with 4 columns of 'float' dtype, 2 columns of 'object' dtype, and 10 columns of 'integer' dtype\\n-From 16 columns, there are missing values for all rows in 'Column1', 'Column2', 'Column3', 'Column4' that need to be treated(drop those columns)\\n\""
      ]
     },
     "execution_count": 103,
     "metadata": {},
     "output_type": "execute_result"
    }
   ],
   "source": [
    "df.info()\n",
    "\"\"\"\n",
    "Summary\n",
    "-There are 7050 rows and 16 columns from the dataset with 4 columns of 'float' dtype, 2 columns of 'object' dtype, and 10 columns of 'integer' dtype\n",
    "-From 16 columns, there are missing values for all rows in 'Column1', 'Column2', 'Column3', 'Column4' that need to be treated(drop those columns)\n",
    "\"\"\""
   ]
  },
  {
   "cell_type": "markdown",
   "metadata": {
    "id": "EtpAMUtdxr40"
   },
   "source": [
    "* Perform EDA viz. Is there any missing values in each column of the provided dataset"
   ]
  },
  {
   "cell_type": "code",
   "execution_count": 104,
   "metadata": {},
   "outputs": [],
   "source": [
    "#There are a lot of 0 value from the table, we need to assign that 0 to be a missing value. So we can exclude/drop it from table\n",
    "miss_value=[0]\n",
    "df=pd.read_csv('https://archive.ics.uci.edu/ml/machine-learning-databases/00488/Live_20210128.csv', na_values=miss_value)"
   ]
  },
  {
   "cell_type": "code",
   "execution_count": 105,
   "metadata": {
    "id": "NorlwNY-xrHZ"
   },
   "outputs": [
    {
     "data": {
      "text/plain": [
       "status_id              0\n",
       "status_type            0\n",
       "status_published       0\n",
       "num_reactions        121\n",
       "num_comments        2119\n",
       "num_shares          3911\n",
       "num_likes            126\n",
       "num_loves           4230\n",
       "num_wows            5308\n",
       "num_hahas           5916\n",
       "num_sads            6443\n",
       "num_angrys          6627\n",
       "Column1             7050\n",
       "Column2             7050\n",
       "Column3             7050\n",
       "Column4             7050\n",
       "dtype: int64"
      ]
     },
     "execution_count": 105,
     "metadata": {},
     "output_type": "execute_result"
    }
   ],
   "source": [
    "df.isnull().sum()\n",
    "# There are missing values for all rows in 'Column1', 'Column2', 'Column3', 'Column4' that need to be treated(drop those columns)\n",
    "# Im gonna drop 'Column1', 'Column2', 'Column3', 'Column4' because those columns have a missing value for each row"
   ]
  },
  {
   "cell_type": "code",
   "execution_count": 106,
   "metadata": {
    "id": "KSn9WueS0jth"
   },
   "outputs": [
    {
     "data": {
      "text/html": [
       "<div>\n",
       "<style scoped>\n",
       "    .dataframe tbody tr th:only-of-type {\n",
       "        vertical-align: middle;\n",
       "    }\n",
       "\n",
       "    .dataframe tbody tr th {\n",
       "        vertical-align: top;\n",
       "    }\n",
       "\n",
       "    .dataframe thead th {\n",
       "        text-align: right;\n",
       "    }\n",
       "</style>\n",
       "<table border=\"1\" class=\"dataframe\">\n",
       "  <thead>\n",
       "    <tr style=\"text-align: right;\">\n",
       "      <th></th>\n",
       "      <th>status_id</th>\n",
       "      <th>status_type</th>\n",
       "      <th>status_published</th>\n",
       "      <th>num_reactions</th>\n",
       "      <th>num_comments</th>\n",
       "      <th>num_shares</th>\n",
       "      <th>num_likes</th>\n",
       "      <th>num_loves</th>\n",
       "      <th>num_wows</th>\n",
       "      <th>num_hahas</th>\n",
       "      <th>num_sads</th>\n",
       "      <th>num_angrys</th>\n",
       "    </tr>\n",
       "  </thead>\n",
       "  <tbody>\n",
       "    <tr>\n",
       "      <th>0</th>\n",
       "      <td>1</td>\n",
       "      <td>video</td>\n",
       "      <td>4/22/2018 6:00</td>\n",
       "      <td>529.0</td>\n",
       "      <td>512.0</td>\n",
       "      <td>262.0</td>\n",
       "      <td>432.0</td>\n",
       "      <td>92.0</td>\n",
       "      <td>3.0</td>\n",
       "      <td>1.0</td>\n",
       "      <td>1.0</td>\n",
       "      <td>NaN</td>\n",
       "    </tr>\n",
       "    <tr>\n",
       "      <th>1</th>\n",
       "      <td>2</td>\n",
       "      <td>photo</td>\n",
       "      <td>4/21/2018 22:45</td>\n",
       "      <td>150.0</td>\n",
       "      <td>NaN</td>\n",
       "      <td>NaN</td>\n",
       "      <td>150.0</td>\n",
       "      <td>NaN</td>\n",
       "      <td>NaN</td>\n",
       "      <td>NaN</td>\n",
       "      <td>NaN</td>\n",
       "      <td>NaN</td>\n",
       "    </tr>\n",
       "    <tr>\n",
       "      <th>2</th>\n",
       "      <td>3</td>\n",
       "      <td>video</td>\n",
       "      <td>4/21/2018 6:17</td>\n",
       "      <td>227.0</td>\n",
       "      <td>236.0</td>\n",
       "      <td>57.0</td>\n",
       "      <td>204.0</td>\n",
       "      <td>21.0</td>\n",
       "      <td>1.0</td>\n",
       "      <td>1.0</td>\n",
       "      <td>NaN</td>\n",
       "      <td>NaN</td>\n",
       "    </tr>\n",
       "    <tr>\n",
       "      <th>3</th>\n",
       "      <td>4</td>\n",
       "      <td>photo</td>\n",
       "      <td>4/21/2018 2:29</td>\n",
       "      <td>111.0</td>\n",
       "      <td>NaN</td>\n",
       "      <td>NaN</td>\n",
       "      <td>111.0</td>\n",
       "      <td>NaN</td>\n",
       "      <td>NaN</td>\n",
       "      <td>NaN</td>\n",
       "      <td>NaN</td>\n",
       "      <td>NaN</td>\n",
       "    </tr>\n",
       "    <tr>\n",
       "      <th>4</th>\n",
       "      <td>5</td>\n",
       "      <td>photo</td>\n",
       "      <td>4/18/2018 3:22</td>\n",
       "      <td>213.0</td>\n",
       "      <td>NaN</td>\n",
       "      <td>NaN</td>\n",
       "      <td>204.0</td>\n",
       "      <td>9.0</td>\n",
       "      <td>NaN</td>\n",
       "      <td>NaN</td>\n",
       "      <td>NaN</td>\n",
       "      <td>NaN</td>\n",
       "    </tr>\n",
       "    <tr>\n",
       "      <th>...</th>\n",
       "      <td>...</td>\n",
       "      <td>...</td>\n",
       "      <td>...</td>\n",
       "      <td>...</td>\n",
       "      <td>...</td>\n",
       "      <td>...</td>\n",
       "      <td>...</td>\n",
       "      <td>...</td>\n",
       "      <td>...</td>\n",
       "      <td>...</td>\n",
       "      <td>...</td>\n",
       "      <td>...</td>\n",
       "    </tr>\n",
       "    <tr>\n",
       "      <th>7045</th>\n",
       "      <td>7046</td>\n",
       "      <td>photo</td>\n",
       "      <td>9/24/2016 2:58</td>\n",
       "      <td>89.0</td>\n",
       "      <td>NaN</td>\n",
       "      <td>NaN</td>\n",
       "      <td>89.0</td>\n",
       "      <td>NaN</td>\n",
       "      <td>NaN</td>\n",
       "      <td>NaN</td>\n",
       "      <td>NaN</td>\n",
       "      <td>NaN</td>\n",
       "    </tr>\n",
       "    <tr>\n",
       "      <th>7046</th>\n",
       "      <td>7047</td>\n",
       "      <td>photo</td>\n",
       "      <td>9/23/2016 11:19</td>\n",
       "      <td>16.0</td>\n",
       "      <td>NaN</td>\n",
       "      <td>NaN</td>\n",
       "      <td>14.0</td>\n",
       "      <td>1.0</td>\n",
       "      <td>NaN</td>\n",
       "      <td>1.0</td>\n",
       "      <td>NaN</td>\n",
       "      <td>NaN</td>\n",
       "    </tr>\n",
       "    <tr>\n",
       "      <th>7047</th>\n",
       "      <td>7048</td>\n",
       "      <td>photo</td>\n",
       "      <td>9/21/2016 23:03</td>\n",
       "      <td>2.0</td>\n",
       "      <td>NaN</td>\n",
       "      <td>NaN</td>\n",
       "      <td>1.0</td>\n",
       "      <td>1.0</td>\n",
       "      <td>NaN</td>\n",
       "      <td>NaN</td>\n",
       "      <td>NaN</td>\n",
       "      <td>NaN</td>\n",
       "    </tr>\n",
       "    <tr>\n",
       "      <th>7048</th>\n",
       "      <td>7049</td>\n",
       "      <td>photo</td>\n",
       "      <td>9/20/2016 0:43</td>\n",
       "      <td>351.0</td>\n",
       "      <td>12.0</td>\n",
       "      <td>22.0</td>\n",
       "      <td>349.0</td>\n",
       "      <td>2.0</td>\n",
       "      <td>NaN</td>\n",
       "      <td>NaN</td>\n",
       "      <td>NaN</td>\n",
       "      <td>NaN</td>\n",
       "    </tr>\n",
       "    <tr>\n",
       "      <th>7049</th>\n",
       "      <td>7050</td>\n",
       "      <td>photo</td>\n",
       "      <td>9/10/2016 10:30</td>\n",
       "      <td>17.0</td>\n",
       "      <td>NaN</td>\n",
       "      <td>NaN</td>\n",
       "      <td>17.0</td>\n",
       "      <td>NaN</td>\n",
       "      <td>NaN</td>\n",
       "      <td>NaN</td>\n",
       "      <td>NaN</td>\n",
       "      <td>NaN</td>\n",
       "    </tr>\n",
       "  </tbody>\n",
       "</table>\n",
       "<p>7050 rows × 12 columns</p>\n",
       "</div>"
      ],
      "text/plain": [
       "      status_id status_type status_published  num_reactions  num_comments  \\\n",
       "0             1       video   4/22/2018 6:00          529.0         512.0   \n",
       "1             2       photo  4/21/2018 22:45          150.0           NaN   \n",
       "2             3       video   4/21/2018 6:17          227.0         236.0   \n",
       "3             4       photo   4/21/2018 2:29          111.0           NaN   \n",
       "4             5       photo   4/18/2018 3:22          213.0           NaN   \n",
       "...         ...         ...              ...            ...           ...   \n",
       "7045       7046       photo   9/24/2016 2:58           89.0           NaN   \n",
       "7046       7047       photo  9/23/2016 11:19           16.0           NaN   \n",
       "7047       7048       photo  9/21/2016 23:03            2.0           NaN   \n",
       "7048       7049       photo   9/20/2016 0:43          351.0          12.0   \n",
       "7049       7050       photo  9/10/2016 10:30           17.0           NaN   \n",
       "\n",
       "      num_shares  num_likes  num_loves  num_wows  num_hahas  num_sads  \\\n",
       "0          262.0      432.0       92.0       3.0        1.0       1.0   \n",
       "1            NaN      150.0        NaN       NaN        NaN       NaN   \n",
       "2           57.0      204.0       21.0       1.0        1.0       NaN   \n",
       "3            NaN      111.0        NaN       NaN        NaN       NaN   \n",
       "4            NaN      204.0        9.0       NaN        NaN       NaN   \n",
       "...          ...        ...        ...       ...        ...       ...   \n",
       "7045         NaN       89.0        NaN       NaN        NaN       NaN   \n",
       "7046         NaN       14.0        1.0       NaN        1.0       NaN   \n",
       "7047         NaN        1.0        1.0       NaN        NaN       NaN   \n",
       "7048        22.0      349.0        2.0       NaN        NaN       NaN   \n",
       "7049         NaN       17.0        NaN       NaN        NaN       NaN   \n",
       "\n",
       "      num_angrys  \n",
       "0            NaN  \n",
       "1            NaN  \n",
       "2            NaN  \n",
       "3            NaN  \n",
       "4            NaN  \n",
       "...          ...  \n",
       "7045         NaN  \n",
       "7046         NaN  \n",
       "7047         NaN  \n",
       "7048         NaN  \n",
       "7049         NaN  \n",
       "\n",
       "[7050 rows x 12 columns]"
      ]
     },
     "execution_count": 106,
     "metadata": {},
     "output_type": "execute_result"
    }
   ],
   "source": [
    "#drop the columns that have a missing value\n",
    "df=df.drop(columns=['Column1', 'Column2', 'Column3', 'Column4'])\n",
    "df"
   ]
  },
  {
   "cell_type": "code",
   "execution_count": 107,
   "metadata": {},
   "outputs": [],
   "source": [
    "#fill the missing values with previous value\n",
    "df=df.fillna(method='ffill')\n",
    "df.isnull().sum()\n",
    "#drop the rest of missing values\n",
    "df.dropna(axis=0, inplace=True)"
   ]
  },
  {
   "cell_type": "code",
   "execution_count": 108,
   "metadata": {},
   "outputs": [
    {
     "data": {
      "text/plain": [
       "status_id           0\n",
       "status_type         0\n",
       "status_published    0\n",
       "num_reactions       0\n",
       "num_comments        0\n",
       "num_shares          0\n",
       "num_likes           0\n",
       "num_loves           0\n",
       "num_wows            0\n",
       "num_hahas           0\n",
       "num_sads            0\n",
       "num_angrys          0\n",
       "dtype: int64"
      ]
     },
     "execution_count": 108,
     "metadata": {},
     "output_type": "execute_result"
    }
   ],
   "source": [
    "df.isnull().sum()"
   ]
  },
  {
   "cell_type": "code",
   "execution_count": 109,
   "metadata": {
    "id": "rOV2S2613aEU"
   },
   "outputs": [
    {
     "data": {
      "text/html": [
       "<div>\n",
       "<style scoped>\n",
       "    .dataframe tbody tr th:only-of-type {\n",
       "        vertical-align: middle;\n",
       "    }\n",
       "\n",
       "    .dataframe tbody tr th {\n",
       "        vertical-align: top;\n",
       "    }\n",
       "\n",
       "    .dataframe thead th {\n",
       "        text-align: right;\n",
       "    }\n",
       "</style>\n",
       "<table border=\"1\" class=\"dataframe\">\n",
       "  <thead>\n",
       "    <tr style=\"text-align: right;\">\n",
       "      <th></th>\n",
       "      <th>status_id</th>\n",
       "      <th>num_reactions</th>\n",
       "      <th>num_comments</th>\n",
       "      <th>num_shares</th>\n",
       "      <th>num_likes</th>\n",
       "      <th>num_loves</th>\n",
       "      <th>num_wows</th>\n",
       "      <th>num_hahas</th>\n",
       "      <th>num_sads</th>\n",
       "      <th>num_angrys</th>\n",
       "    </tr>\n",
       "  </thead>\n",
       "  <tbody>\n",
       "    <tr>\n",
       "      <th>count</th>\n",
       "      <td>7044.000000</td>\n",
       "      <td>7044.000000</td>\n",
       "      <td>7044.000000</td>\n",
       "      <td>7044.000000</td>\n",
       "      <td>7044.000000</td>\n",
       "      <td>7044.000000</td>\n",
       "      <td>7044.000000</td>\n",
       "      <td>7044.000000</td>\n",
       "      <td>7044.00000</td>\n",
       "      <td>7044.000000</td>\n",
       "    </tr>\n",
       "    <tr>\n",
       "      <th>mean</th>\n",
       "      <td>3528.500000</td>\n",
       "      <td>230.590006</td>\n",
       "      <td>304.185548</td>\n",
       "      <td>73.998438</td>\n",
       "      <td>215.497587</td>\n",
       "      <td>22.776973</td>\n",
       "      <td>2.736087</td>\n",
       "      <td>2.920926</td>\n",
       "      <td>1.72686</td>\n",
       "      <td>1.587450</td>\n",
       "    </tr>\n",
       "    <tr>\n",
       "      <th>std</th>\n",
       "      <td>2033.571981</td>\n",
       "      <td>462.831548</td>\n",
       "      <td>944.274595</td>\n",
       "      <td>155.008606</td>\n",
       "      <td>449.682754</td>\n",
       "      <td>44.952713</td>\n",
       "      <td>9.565933</td>\n",
       "      <td>6.057828</td>\n",
       "      <td>2.96629</td>\n",
       "      <td>2.674896</td>\n",
       "    </tr>\n",
       "    <tr>\n",
       "      <th>min</th>\n",
       "      <td>7.000000</td>\n",
       "      <td>1.000000</td>\n",
       "      <td>1.000000</td>\n",
       "      <td>1.000000</td>\n",
       "      <td>1.000000</td>\n",
       "      <td>1.000000</td>\n",
       "      <td>1.000000</td>\n",
       "      <td>1.000000</td>\n",
       "      <td>1.00000</td>\n",
       "      <td>1.000000</td>\n",
       "    </tr>\n",
       "    <tr>\n",
       "      <th>25%</th>\n",
       "      <td>1767.750000</td>\n",
       "      <td>17.000000</td>\n",
       "      <td>2.000000</td>\n",
       "      <td>1.000000</td>\n",
       "      <td>17.000000</td>\n",
       "      <td>2.000000</td>\n",
       "      <td>1.000000</td>\n",
       "      <td>1.000000</td>\n",
       "      <td>1.00000</td>\n",
       "      <td>1.000000</td>\n",
       "    </tr>\n",
       "    <tr>\n",
       "      <th>50%</th>\n",
       "      <td>3528.500000</td>\n",
       "      <td>60.000000</td>\n",
       "      <td>9.000000</td>\n",
       "      <td>4.000000</td>\n",
       "      <td>58.000000</td>\n",
       "      <td>2.000000</td>\n",
       "      <td>1.000000</td>\n",
       "      <td>1.000000</td>\n",
       "      <td>1.00000</td>\n",
       "      <td>1.000000</td>\n",
       "    </tr>\n",
       "    <tr>\n",
       "      <th>75%</th>\n",
       "      <td>5289.250000</td>\n",
       "      <td>219.000000</td>\n",
       "      <td>137.500000</td>\n",
       "      <td>74.000000</td>\n",
       "      <td>185.000000</td>\n",
       "      <td>26.000000</td>\n",
       "      <td>2.000000</td>\n",
       "      <td>3.000000</td>\n",
       "      <td>1.00000</td>\n",
       "      <td>1.000000</td>\n",
       "    </tr>\n",
       "    <tr>\n",
       "      <th>max</th>\n",
       "      <td>7050.000000</td>\n",
       "      <td>4710.000000</td>\n",
       "      <td>20990.000000</td>\n",
       "      <td>3424.000000</td>\n",
       "      <td>4710.000000</td>\n",
       "      <td>657.000000</td>\n",
       "      <td>278.000000</td>\n",
       "      <td>157.000000</td>\n",
       "      <td>51.00000</td>\n",
       "      <td>31.000000</td>\n",
       "    </tr>\n",
       "  </tbody>\n",
       "</table>\n",
       "</div>"
      ],
      "text/plain": [
       "         status_id  num_reactions  num_comments   num_shares    num_likes  \\\n",
       "count  7044.000000    7044.000000   7044.000000  7044.000000  7044.000000   \n",
       "mean   3528.500000     230.590006    304.185548    73.998438   215.497587   \n",
       "std    2033.571981     462.831548    944.274595   155.008606   449.682754   \n",
       "min       7.000000       1.000000      1.000000     1.000000     1.000000   \n",
       "25%    1767.750000      17.000000      2.000000     1.000000    17.000000   \n",
       "50%    3528.500000      60.000000      9.000000     4.000000    58.000000   \n",
       "75%    5289.250000     219.000000    137.500000    74.000000   185.000000   \n",
       "max    7050.000000    4710.000000  20990.000000  3424.000000  4710.000000   \n",
       "\n",
       "         num_loves     num_wows    num_hahas    num_sads   num_angrys  \n",
       "count  7044.000000  7044.000000  7044.000000  7044.00000  7044.000000  \n",
       "mean     22.776973     2.736087     2.920926     1.72686     1.587450  \n",
       "std      44.952713     9.565933     6.057828     2.96629     2.674896  \n",
       "min       1.000000     1.000000     1.000000     1.00000     1.000000  \n",
       "25%       2.000000     1.000000     1.000000     1.00000     1.000000  \n",
       "50%       2.000000     1.000000     1.000000     1.00000     1.000000  \n",
       "75%      26.000000     2.000000     3.000000     1.00000     1.000000  \n",
       "max     657.000000   278.000000   157.000000    51.00000    31.000000  "
      ]
     },
     "execution_count": 109,
     "metadata": {},
     "output_type": "execute_result"
    }
   ],
   "source": [
    "#Univariate Analysis\n",
    "df.describe()\n",
    "\n",
    "# Summary of Descriptive Statistics for each columns that only have 'integer' or 'float' dtype"
   ]
  },
  {
   "cell_type": "code",
   "execution_count": 110,
   "metadata": {
    "colab": {
     "base_uri": "https://localhost:8080/",
     "height": 729
    },
    "id": "5jXOuh6R446w",
    "outputId": "01039e64-553d-45ab-8beb-832ae3084f0c"
   },
   "outputs": [
    {
     "data": {
      "image/png": "[encoded data removed]",
      "text/plain": [
       "<Figure size 1440x720 with 10 Axes>"
      ]
     },
     "metadata": {
      "needs_background": "light"
     },
     "output_type": "display_data"
    }
   ],
   "source": [
    "# plot in distribution graph to see the distribution for each column\n",
    "plt.figure(figsize=(20,10))\n",
    "for i in enumerate (df.describe().columns):\n",
    "  plt.subplot(2,5, i[0]+1)\n",
    "  sns.distplot(df[i[1]])\n",
    "plt.tight_layout()\n",
    "plt.show()"
   ]
  },
  {
   "cell_type": "code",
   "execution_count": 111,
   "metadata": {
    "colab": {
     "base_uri": "https://localhost:8080/"
    },
    "id": "NIYbq_XB6hKK",
    "outputId": "45c85223-b202-4aea-e7a8-947077c53b11"
   },
   "outputs": [
    {
     "data": {
      "text/plain": [
       "status_id         0.000000\n",
       "num_reactions     3.734434\n",
       "num_comments      7.754637\n",
       "num_shares        4.617000\n",
       "num_likes         3.914858\n",
       "num_loves         4.189390\n",
       "num_wows         15.465465\n",
       "num_hahas        11.014814\n",
       "num_sads          9.347987\n",
       "num_angrys        8.735784\n",
       "dtype: float64"
      ]
     },
     "execution_count": 111,
     "metadata": {},
     "output_type": "execute_result"
    }
   ],
   "source": [
    "#calculate skewness\n",
    "df.skew(axis=0)\n",
    "#each column('integer' and 'float' dtypes only) has a positive value of skewness"
   ]
  },
  {
   "cell_type": "code",
   "execution_count": 112,
   "metadata": {
    "colab": {
     "base_uri": "https://localhost:8080/",
     "height": 362
    },
    "id": "pgpx5TTc8QJP",
    "outputId": "1de90d75-06d9-4bba-d919-8a71479783ae",
    "scrolled": true
   },
   "outputs": [
    {
     "data": {
      "text/html": [
       "<div>\n",
       "<style scoped>\n",
       "    .dataframe tbody tr th:only-of-type {\n",
       "        vertical-align: middle;\n",
       "    }\n",
       "\n",
       "    .dataframe tbody tr th {\n",
       "        vertical-align: top;\n",
       "    }\n",
       "\n",
       "    .dataframe thead th {\n",
       "        text-align: right;\n",
       "    }\n",
       "</style>\n",
       "<table border=\"1\" class=\"dataframe\">\n",
       "  <thead>\n",
       "    <tr style=\"text-align: right;\">\n",
       "      <th></th>\n",
       "      <th>status_id</th>\n",
       "      <th>num_reactions</th>\n",
       "      <th>num_comments</th>\n",
       "      <th>num_shares</th>\n",
       "      <th>num_likes</th>\n",
       "      <th>num_loves</th>\n",
       "      <th>num_wows</th>\n",
       "      <th>num_hahas</th>\n",
       "      <th>num_sads</th>\n",
       "      <th>num_angrys</th>\n",
       "    </tr>\n",
       "  </thead>\n",
       "  <tbody>\n",
       "    <tr>\n",
       "      <th>status_id</th>\n",
       "      <td>1.000000</td>\n",
       "      <td>-0.187349</td>\n",
       "      <td>0.237750</td>\n",
       "      <td>0.338045</td>\n",
       "      <td>-0.209165</td>\n",
       "      <td>0.286678</td>\n",
       "      <td>0.057990</td>\n",
       "      <td>0.140651</td>\n",
       "      <td>0.062744</td>\n",
       "      <td>0.058255</td>\n",
       "    </tr>\n",
       "    <tr>\n",
       "      <th>num_reactions</th>\n",
       "      <td>-0.187349</td>\n",
       "      <td>1.000000</td>\n",
       "      <td>0.105690</td>\n",
       "      <td>0.132114</td>\n",
       "      <td>0.994914</td>\n",
       "      <td>0.184652</td>\n",
       "      <td>0.219727</td>\n",
       "      <td>0.049009</td>\n",
       "      <td>0.029002</td>\n",
       "      <td>0.018755</td>\n",
       "    </tr>\n",
       "    <tr>\n",
       "      <th>num_comments</th>\n",
       "      <td>0.237750</td>\n",
       "      <td>0.105690</td>\n",
       "      <td>1.000000</td>\n",
       "      <td>0.515043</td>\n",
       "      <td>0.061005</td>\n",
       "      <td>0.446999</td>\n",
       "      <td>0.114055</td>\n",
       "      <td>0.141086</td>\n",
       "      <td>0.057662</td>\n",
       "      <td>0.087655</td>\n",
       "    </tr>\n",
       "    <tr>\n",
       "      <th>num_shares</th>\n",
       "      <td>0.338045</td>\n",
       "      <td>0.132114</td>\n",
       "      <td>0.515043</td>\n",
       "      <td>1.000000</td>\n",
       "      <td>0.070223</td>\n",
       "      <td>0.663023</td>\n",
       "      <td>0.270358</td>\n",
       "      <td>0.159054</td>\n",
       "      <td>0.039489</td>\n",
       "      <td>0.015038</td>\n",
       "    </tr>\n",
       "    <tr>\n",
       "      <th>num_likes</th>\n",
       "      <td>-0.209165</td>\n",
       "      <td>0.994914</td>\n",
       "      <td>0.061005</td>\n",
       "      <td>0.070223</td>\n",
       "      <td>1.000000</td>\n",
       "      <td>0.104238</td>\n",
       "      <td>0.167896</td>\n",
       "      <td>0.020535</td>\n",
       "      <td>0.022387</td>\n",
       "      <td>0.013019</td>\n",
       "    </tr>\n",
       "    <tr>\n",
       "      <th>num_loves</th>\n",
       "      <td>0.286678</td>\n",
       "      <td>0.184652</td>\n",
       "      <td>0.446999</td>\n",
       "      <td>0.663023</td>\n",
       "      <td>0.104238</td>\n",
       "      <td>1.000000</td>\n",
       "      <td>0.380795</td>\n",
       "      <td>0.222249</td>\n",
       "      <td>0.024319</td>\n",
       "      <td>0.050176</td>\n",
       "    </tr>\n",
       "    <tr>\n",
       "      <th>num_wows</th>\n",
       "      <td>0.057990</td>\n",
       "      <td>0.219727</td>\n",
       "      <td>0.114055</td>\n",
       "      <td>0.270358</td>\n",
       "      <td>0.167896</td>\n",
       "      <td>0.380795</td>\n",
       "      <td>1.000000</td>\n",
       "      <td>0.174811</td>\n",
       "      <td>0.047332</td>\n",
       "      <td>0.051394</td>\n",
       "    </tr>\n",
       "    <tr>\n",
       "      <th>num_hahas</th>\n",
       "      <td>0.140651</td>\n",
       "      <td>0.049009</td>\n",
       "      <td>0.141086</td>\n",
       "      <td>0.159054</td>\n",
       "      <td>0.020535</td>\n",
       "      <td>0.222249</td>\n",
       "      <td>0.174811</td>\n",
       "      <td>1.000000</td>\n",
       "      <td>0.048585</td>\n",
       "      <td>0.043980</td>\n",
       "    </tr>\n",
       "    <tr>\n",
       "      <th>num_sads</th>\n",
       "      <td>0.062744</td>\n",
       "      <td>0.029002</td>\n",
       "      <td>0.057662</td>\n",
       "      <td>0.039489</td>\n",
       "      <td>0.022387</td>\n",
       "      <td>0.024319</td>\n",
       "      <td>0.047332</td>\n",
       "      <td>0.048585</td>\n",
       "      <td>1.000000</td>\n",
       "      <td>0.040607</td>\n",
       "    </tr>\n",
       "    <tr>\n",
       "      <th>num_angrys</th>\n",
       "      <td>0.058255</td>\n",
       "      <td>0.018755</td>\n",
       "      <td>0.087655</td>\n",
       "      <td>0.015038</td>\n",
       "      <td>0.013019</td>\n",
       "      <td>0.050176</td>\n",
       "      <td>0.051394</td>\n",
       "      <td>0.043980</td>\n",
       "      <td>0.040607</td>\n",
       "      <td>1.000000</td>\n",
       "    </tr>\n",
       "  </tbody>\n",
       "</table>\n",
       "</div>"
      ],
      "text/plain": [
       "               status_id  num_reactions  num_comments  num_shares  num_likes  \\\n",
       "status_id       1.000000      -0.187349      0.237750    0.338045  -0.209165   \n",
       "num_reactions  -0.187349       1.000000      0.105690    0.132114   0.994914   \n",
       "num_comments    0.237750       0.105690      1.000000    0.515043   0.061005   \n",
       "num_shares      0.338045       0.132114      0.515043    1.000000   0.070223   \n",
       "num_likes      -0.209165       0.994914      0.061005    0.070223   1.000000   \n",
       "num_loves       0.286678       0.184652      0.446999    0.663023   0.104238   \n",
       "num_wows        0.057990       0.219727      0.114055    0.270358   0.167896   \n",
       "num_hahas       0.140651       0.049009      0.141086    0.159054   0.020535   \n",
       "num_sads        0.062744       0.029002      0.057662    0.039489   0.022387   \n",
       "num_angrys      0.058255       0.018755      0.087655    0.015038   0.013019   \n",
       "\n",
       "               num_loves  num_wows  num_hahas  num_sads  num_angrys  \n",
       "status_id       0.286678  0.057990   0.140651  0.062744    0.058255  \n",
       "num_reactions   0.184652  0.219727   0.049009  0.029002    0.018755  \n",
       "num_comments    0.446999  0.114055   0.141086  0.057662    0.087655  \n",
       "num_shares      0.663023  0.270358   0.159054  0.039489    0.015038  \n",
       "num_likes       0.104238  0.167896   0.020535  0.022387    0.013019  \n",
       "num_loves       1.000000  0.380795   0.222249  0.024319    0.050176  \n",
       "num_wows        0.380795  1.000000   0.174811  0.047332    0.051394  \n",
       "num_hahas       0.222249  0.174811   1.000000  0.048585    0.043980  \n",
       "num_sads        0.024319  0.047332   0.048585  1.000000    0.040607  \n",
       "num_angrys      0.050176  0.051394   0.043980  0.040607    1.000000  "
      ]
     },
     "execution_count": 112,
     "metadata": {},
     "output_type": "execute_result"
    }
   ],
   "source": [
    "#Multivariate Analysis\n",
    "df.corr()\n",
    "#to see the linear relationship for each column"
   ]
  },
  {
   "cell_type": "code",
   "execution_count": 113,
   "metadata": {
    "colab": {
     "base_uri": "https://localhost:8080/",
     "height": 665
    },
    "id": "h6RgJFIR8p86",
    "outputId": "64f61f5a-4d2c-4644-b407-e3a2d24b6d78",
    "scrolled": true
   },
   "outputs": [
    {
     "data": {
      "image/png": "[encoded data removed]",
      "text/plain": [
       "<Figure size 1008x720 with 2 Axes>"
      ]
     },
     "metadata": {
      "needs_background": "light"
     },
     "output_type": "display_data"
    }
   ],
   "source": [
    "#Heatmap of linear correlation for each column\n",
    "plt.figure(figsize=(14,10))\n",
    "sns.heatmap(df.corr(), annot=True, fmt='.2g', cmap=\"YlGnBu\")\n",
    "plt.show()"
   ]
  },
  {
   "cell_type": "markdown",
   "metadata": {
    "id": "qgovXRIRyR9o"
   },
   "source": [
    "* Display all the unique status_type of the dataframe"
   ]
  },
  {
   "cell_type": "code",
   "execution_count": 114,
   "metadata": {
    "colab": {
     "base_uri": "https://localhost:8080/"
    },
    "id": "HRzcJcC5yRLd",
    "outputId": "0493608e-6487-4fd7-b6f8-00fe57c58339"
   },
   "outputs": [
    {
     "name": "stdout",
     "output_type": "stream",
     "text": [
      "['video' 'photo' 'link' 'status']\n"
     ]
    }
   ],
   "source": [
    "print(df['status_type'].unique())"
   ]
  },
  {
   "cell_type": "code",
   "execution_count": 115,
   "metadata": {
    "colab": {
     "base_uri": "https://localhost:8080/"
    },
    "id": "0pL2rBqv-AEW",
    "outputId": "1ba73635-dbe3-4798-985a-5736225cfa59"
   },
   "outputs": [
    {
     "name": "stdout",
     "output_type": "stream",
     "text": [
      "photo     4284\n",
      "video     2332\n",
      "status     365\n",
      "link        63\n",
      "Name: status_type, dtype: int64\n"
     ]
    }
   ],
   "source": [
    "#Sum of unique values in status_type column\n",
    "print(df['status_type'].value_counts())"
   ]
  },
  {
   "cell_type": "markdown",
   "metadata": {
    "id": "AJACBSir9H4G"
   },
   "source": [
    "* Convert categorical variable, i.e., status_type into numerical representation using a label encoder"
   ]
  },
  {
   "cell_type": "code",
   "execution_count": 116,
   "metadata": {
    "id": "vvB5ei8R9HFi"
   },
   "outputs": [],
   "source": [
    "from sklearn.preprocessing import LabelEncoder"
   ]
  },
  {
   "cell_type": "code",
   "execution_count": 117,
   "metadata": {
    "id": "Jto9S26J_Gbc"
   },
   "outputs": [],
   "source": [
    "def Encoder(df):\n",
    "  columnsToEncode= list(df.select_dtypes(include=['category', 'object']))\n",
    "  le= LabelEncoder()\n",
    "  for feature in columnsToEncode:\n",
    "    try:\n",
    "      df[feature]= le.fit_transform(df[feature])\n",
    "    except:\n",
    "      print('Error encoding'+feature)\n",
    "  return df"
   ]
  },
  {
   "cell_type": "code",
   "execution_count": 118,
   "metadata": {
    "id": "HEU4xaWhARgH"
   },
   "outputs": [],
   "source": [
    "df= Encoder(df)"
   ]
  },
  {
   "cell_type": "code",
   "execution_count": 119,
   "metadata": {
    "colab": {
     "base_uri": "https://localhost:8080/",
     "height": 206
    },
    "id": "V66OSA8zA1xc",
    "outputId": "2db47024-b68e-4b5a-dc03-9dc3548411ef"
   },
   "outputs": [
    {
     "data": {
      "text/html": [
       "<div>\n",
       "<style scoped>\n",
       "    .dataframe tbody tr th:only-of-type {\n",
       "        vertical-align: middle;\n",
       "    }\n",
       "\n",
       "    .dataframe tbody tr th {\n",
       "        vertical-align: top;\n",
       "    }\n",
       "\n",
       "    .dataframe thead th {\n",
       "        text-align: right;\n",
       "    }\n",
       "</style>\n",
       "<table border=\"1\" class=\"dataframe\">\n",
       "  <thead>\n",
       "    <tr style=\"text-align: right;\">\n",
       "      <th></th>\n",
       "      <th>status_id</th>\n",
       "      <th>status_type</th>\n",
       "      <th>status_published</th>\n",
       "      <th>num_reactions</th>\n",
       "      <th>num_comments</th>\n",
       "      <th>num_shares</th>\n",
       "      <th>num_likes</th>\n",
       "      <th>num_loves</th>\n",
       "      <th>num_wows</th>\n",
       "      <th>num_hahas</th>\n",
       "      <th>num_sads</th>\n",
       "      <th>num_angrys</th>\n",
       "    </tr>\n",
       "  </thead>\n",
       "  <tbody>\n",
       "    <tr>\n",
       "      <th>6</th>\n",
       "      <td>7</td>\n",
       "      <td>3</td>\n",
       "      <td>3826</td>\n",
       "      <td>503.0</td>\n",
       "      <td>614.0</td>\n",
       "      <td>72.0</td>\n",
       "      <td>418.0</td>\n",
       "      <td>70.0</td>\n",
       "      <td>10.0</td>\n",
       "      <td>2.0</td>\n",
       "      <td>1.0</td>\n",
       "      <td>3.0</td>\n",
       "    </tr>\n",
       "    <tr>\n",
       "      <th>7</th>\n",
       "      <td>8</td>\n",
       "      <td>3</td>\n",
       "      <td>3818</td>\n",
       "      <td>295.0</td>\n",
       "      <td>453.0</td>\n",
       "      <td>53.0</td>\n",
       "      <td>260.0</td>\n",
       "      <td>32.0</td>\n",
       "      <td>1.0</td>\n",
       "      <td>1.0</td>\n",
       "      <td>1.0</td>\n",
       "      <td>1.0</td>\n",
       "    </tr>\n",
       "    <tr>\n",
       "      <th>8</th>\n",
       "      <td>9</td>\n",
       "      <td>1</td>\n",
       "      <td>3810</td>\n",
       "      <td>203.0</td>\n",
       "      <td>1.0</td>\n",
       "      <td>53.0</td>\n",
       "      <td>198.0</td>\n",
       "      <td>5.0</td>\n",
       "      <td>1.0</td>\n",
       "      <td>1.0</td>\n",
       "      <td>1.0</td>\n",
       "      <td>1.0</td>\n",
       "    </tr>\n",
       "    <tr>\n",
       "      <th>9</th>\n",
       "      <td>10</td>\n",
       "      <td>1</td>\n",
       "      <td>3747</td>\n",
       "      <td>170.0</td>\n",
       "      <td>9.0</td>\n",
       "      <td>1.0</td>\n",
       "      <td>167.0</td>\n",
       "      <td>3.0</td>\n",
       "      <td>1.0</td>\n",
       "      <td>1.0</td>\n",
       "      <td>1.0</td>\n",
       "      <td>1.0</td>\n",
       "    </tr>\n",
       "    <tr>\n",
       "      <th>10</th>\n",
       "      <td>11</td>\n",
       "      <td>1</td>\n",
       "      <td>3718</td>\n",
       "      <td>210.0</td>\n",
       "      <td>2.0</td>\n",
       "      <td>3.0</td>\n",
       "      <td>202.0</td>\n",
       "      <td>7.0</td>\n",
       "      <td>1.0</td>\n",
       "      <td>1.0</td>\n",
       "      <td>1.0</td>\n",
       "      <td>1.0</td>\n",
       "    </tr>\n",
       "    <tr>\n",
       "      <th>...</th>\n",
       "      <td>...</td>\n",
       "      <td>...</td>\n",
       "      <td>...</td>\n",
       "      <td>...</td>\n",
       "      <td>...</td>\n",
       "      <td>...</td>\n",
       "      <td>...</td>\n",
       "      <td>...</td>\n",
       "      <td>...</td>\n",
       "      <td>...</td>\n",
       "      <td>...</td>\n",
       "      <td>...</td>\n",
       "    </tr>\n",
       "    <tr>\n",
       "      <th>7045</th>\n",
       "      <td>7046</td>\n",
       "      <td>1</td>\n",
       "      <td>6685</td>\n",
       "      <td>89.0</td>\n",
       "      <td>2.0</td>\n",
       "      <td>3.0</td>\n",
       "      <td>89.0</td>\n",
       "      <td>1.0</td>\n",
       "      <td>1.0</td>\n",
       "      <td>1.0</td>\n",
       "      <td>3.0</td>\n",
       "      <td>1.0</td>\n",
       "    </tr>\n",
       "    <tr>\n",
       "      <th>7046</th>\n",
       "      <td>7047</td>\n",
       "      <td>1</td>\n",
       "      <td>6670</td>\n",
       "      <td>16.0</td>\n",
       "      <td>2.0</td>\n",
       "      <td>3.0</td>\n",
       "      <td>14.0</td>\n",
       "      <td>1.0</td>\n",
       "      <td>1.0</td>\n",
       "      <td>1.0</td>\n",
       "      <td>3.0</td>\n",
       "      <td>1.0</td>\n",
       "    </tr>\n",
       "    <tr>\n",
       "      <th>7047</th>\n",
       "      <td>7048</td>\n",
       "      <td>1</td>\n",
       "      <td>6637</td>\n",
       "      <td>2.0</td>\n",
       "      <td>2.0</td>\n",
       "      <td>3.0</td>\n",
       "      <td>1.0</td>\n",
       "      <td>1.0</td>\n",
       "      <td>1.0</td>\n",
       "      <td>1.0</td>\n",
       "      <td>3.0</td>\n",
       "      <td>1.0</td>\n",
       "    </tr>\n",
       "    <tr>\n",
       "      <th>7048</th>\n",
       "      <td>7049</td>\n",
       "      <td>1</td>\n",
       "      <td>6619</td>\n",
       "      <td>351.0</td>\n",
       "      <td>12.0</td>\n",
       "      <td>22.0</td>\n",
       "      <td>349.0</td>\n",
       "      <td>2.0</td>\n",
       "      <td>1.0</td>\n",
       "      <td>1.0</td>\n",
       "      <td>3.0</td>\n",
       "      <td>1.0</td>\n",
       "    </tr>\n",
       "    <tr>\n",
       "      <th>7049</th>\n",
       "      <td>7050</td>\n",
       "      <td>1</td>\n",
       "      <td>6457</td>\n",
       "      <td>17.0</td>\n",
       "      <td>12.0</td>\n",
       "      <td>22.0</td>\n",
       "      <td>17.0</td>\n",
       "      <td>2.0</td>\n",
       "      <td>1.0</td>\n",
       "      <td>1.0</td>\n",
       "      <td>3.0</td>\n",
       "      <td>1.0</td>\n",
       "    </tr>\n",
       "  </tbody>\n",
       "</table>\n",
       "<p>7044 rows × 12 columns</p>\n",
       "</div>"
      ],
      "text/plain": [
       "      status_id  status_type  status_published  num_reactions  num_comments  \\\n",
       "6             7            3              3826          503.0         614.0   \n",
       "7             8            3              3818          295.0         453.0   \n",
       "8             9            1              3810          203.0           1.0   \n",
       "9            10            1              3747          170.0           9.0   \n",
       "10           11            1              3718          210.0           2.0   \n",
       "...         ...          ...               ...            ...           ...   \n",
       "7045       7046            1              6685           89.0           2.0   \n",
       "7046       7047            1              6670           16.0           2.0   \n",
       "7047       7048            1              6637            2.0           2.0   \n",
       "7048       7049            1              6619          351.0          12.0   \n",
       "7049       7050            1              6457           17.0          12.0   \n",
       "\n",
       "      num_shares  num_likes  num_loves  num_wows  num_hahas  num_sads  \\\n",
       "6           72.0      418.0       70.0      10.0        2.0       1.0   \n",
       "7           53.0      260.0       32.0       1.0        1.0       1.0   \n",
       "8           53.0      198.0        5.0       1.0        1.0       1.0   \n",
       "9            1.0      167.0        3.0       1.0        1.0       1.0   \n",
       "10           3.0      202.0        7.0       1.0        1.0       1.0   \n",
       "...          ...        ...        ...       ...        ...       ...   \n",
       "7045         3.0       89.0        1.0       1.0        1.0       3.0   \n",
       "7046         3.0       14.0        1.0       1.0        1.0       3.0   \n",
       "7047         3.0        1.0        1.0       1.0        1.0       3.0   \n",
       "7048        22.0      349.0        2.0       1.0        1.0       3.0   \n",
       "7049        22.0       17.0        2.0       1.0        1.0       3.0   \n",
       "\n",
       "      num_angrys  \n",
       "6            3.0  \n",
       "7            1.0  \n",
       "8            1.0  \n",
       "9            1.0  \n",
       "10           1.0  \n",
       "...          ...  \n",
       "7045         1.0  \n",
       "7046         1.0  \n",
       "7047         1.0  \n",
       "7048         1.0  \n",
       "7049         1.0  \n",
       "\n",
       "[7044 rows x 12 columns]"
      ]
     },
     "execution_count": 119,
     "metadata": {},
     "output_type": "execute_result"
    }
   ],
   "source": [
    "df\n",
    "#we can see from the new df, status_type and status_published have been changed into numerical representation by labelencoder"
   ]
  },
  {
   "cell_type": "code",
   "execution_count": 120,
   "metadata": {
    "colab": {
     "base_uri": "https://localhost:8080/"
    },
    "id": "9MDvy3RjBZjq",
    "outputId": "01e6aba6-f102-473a-c2f6-f0a94b3a113b"
   },
   "outputs": [
    {
     "name": "stdout",
     "output_type": "stream",
     "text": [
      "<class 'pandas.core.frame.DataFrame'>\n",
      "Int64Index: 7044 entries, 6 to 7049\n",
      "Data columns (total 12 columns):\n",
      " #   Column            Non-Null Count  Dtype  \n",
      "---  ------            --------------  -----  \n",
      " 0   status_id         7044 non-null   int64  \n",
      " 1   status_type       7044 non-null   int32  \n",
      " 2   status_published  7044 non-null   int32  \n",
      " 3   num_reactions     7044 non-null   float64\n",
      " 4   num_comments      7044 non-null   float64\n",
      " 5   num_shares        7044 non-null   float64\n",
      " 6   num_likes         7044 non-null   float64\n",
      " 7   num_loves         7044 non-null   float64\n",
      " 8   num_wows          7044 non-null   float64\n",
      " 9   num_hahas         7044 non-null   float64\n",
      " 10  num_sads          7044 non-null   float64\n",
      " 11  num_angrys        7044 non-null   float64\n",
      "dtypes: float64(9), int32(2), int64(1)\n",
      "memory usage: 660.4 KB\n"
     ]
    }
   ],
   "source": [
    "df.info()\n",
    "#status_type and status_published column have been converted from 'object' dtype into 'int' dtype"
   ]
  },
  {
   "cell_type": "markdown",
   "metadata": {
    "id": "J_mvSz0KArul"
   },
   "source": [
    "###**Task 2: Feature Scaling**\n",
    "\n",
    "\n",
    "*   Perform normalization to scale numerical data prior to modeling. You may use Min-max scaling technique"
   ]
  },
  {
   "cell_type": "code",
   "execution_count": 121,
   "metadata": {
    "scrolled": true
   },
   "outputs": [
    {
     "data": {
      "text/html": [
       "<div>\n",
       "<style scoped>\n",
       "    .dataframe tbody tr th:only-of-type {\n",
       "        vertical-align: middle;\n",
       "    }\n",
       "\n",
       "    .dataframe tbody tr th {\n",
       "        vertical-align: top;\n",
       "    }\n",
       "\n",
       "    .dataframe thead th {\n",
       "        text-align: right;\n",
       "    }\n",
       "</style>\n",
       "<table border=\"1\" class=\"dataframe\">\n",
       "  <thead>\n",
       "    <tr style=\"text-align: right;\">\n",
       "      <th></th>\n",
       "      <th>num_loves</th>\n",
       "      <th>num_hahas</th>\n",
       "    </tr>\n",
       "  </thead>\n",
       "  <tbody>\n",
       "    <tr>\n",
       "      <th>0</th>\n",
       "      <td>0.105183</td>\n",
       "      <td>0.00641</td>\n",
       "    </tr>\n",
       "    <tr>\n",
       "      <th>1</th>\n",
       "      <td>0.047256</td>\n",
       "      <td>0.00000</td>\n",
       "    </tr>\n",
       "    <tr>\n",
       "      <th>2</th>\n",
       "      <td>0.006098</td>\n",
       "      <td>0.00000</td>\n",
       "    </tr>\n",
       "    <tr>\n",
       "      <th>3</th>\n",
       "      <td>0.003049</td>\n",
       "      <td>0.00000</td>\n",
       "    </tr>\n",
       "    <tr>\n",
       "      <th>4</th>\n",
       "      <td>0.009146</td>\n",
       "      <td>0.00000</td>\n",
       "    </tr>\n",
       "    <tr>\n",
       "      <th>...</th>\n",
       "      <td>...</td>\n",
       "      <td>...</td>\n",
       "    </tr>\n",
       "    <tr>\n",
       "      <th>7039</th>\n",
       "      <td>0.000000</td>\n",
       "      <td>0.00000</td>\n",
       "    </tr>\n",
       "    <tr>\n",
       "      <th>7040</th>\n",
       "      <td>0.000000</td>\n",
       "      <td>0.00000</td>\n",
       "    </tr>\n",
       "    <tr>\n",
       "      <th>7041</th>\n",
       "      <td>0.000000</td>\n",
       "      <td>0.00000</td>\n",
       "    </tr>\n",
       "    <tr>\n",
       "      <th>7042</th>\n",
       "      <td>0.001524</td>\n",
       "      <td>0.00000</td>\n",
       "    </tr>\n",
       "    <tr>\n",
       "      <th>7043</th>\n",
       "      <td>0.001524</td>\n",
       "      <td>0.00000</td>\n",
       "    </tr>\n",
       "  </tbody>\n",
       "</table>\n",
       "<p>7044 rows × 2 columns</p>\n",
       "</div>"
      ],
      "text/plain": [
       "      num_loves  num_hahas\n",
       "0      0.105183    0.00641\n",
       "1      0.047256    0.00000\n",
       "2      0.006098    0.00000\n",
       "3      0.003049    0.00000\n",
       "4      0.009146    0.00000\n",
       "...         ...        ...\n",
       "7039   0.000000    0.00000\n",
       "7040   0.000000    0.00000\n",
       "7041   0.000000    0.00000\n",
       "7042   0.001524    0.00000\n",
       "7043   0.001524    0.00000\n",
       "\n",
       "[7044 rows x 2 columns]"
      ]
     },
     "execution_count": 121,
     "metadata": {},
     "output_type": "execute_result"
    }
   ],
   "source": [
    "#normalize to scale numerical data prior with min max technique\n",
    "from sklearn.preprocessing import MinMaxScaler\n",
    "#build the scaler model\n",
    "scaler=MinMaxScaler()\n",
    "\n",
    "#i clustering the dataset based on num_loves and num_hahas feature\n",
    "col=['num_loves', 'num_hahas']\n",
    "df_scl=scaler.fit_transform(df[col])\n",
    "new_df=pd.DataFrame(data=df_scl, columns=col)\n",
    "new_df\n",
    "#all of the feature has been normalization with min-max scalling, so the data values in range of 0 to 1"
   ]
  },
  {
   "cell_type": "markdown",
   "metadata": {
    "id": "v3-lgd-Fa3II"
   },
   "source": [
    "*   Use Elbow method to determine the number of cluster to be formed"
   ]
  },
  {
   "cell_type": "code",
   "execution_count": 122,
   "metadata": {
    "id": "r-Wzdnd5ZIac"
   },
   "outputs": [],
   "source": [
    "from sklearn.cluster import KMeans\n",
    "from sklearn.metrics import silhouette_score"
   ]
  },
  {
   "cell_type": "code",
   "execution_count": 123,
   "metadata": {
    "colab": {
     "base_uri": "https://localhost:8080/"
    },
    "id": "Bvpig_R3L4QE",
    "outputId": "10e21770-3f18-4e0b-adb2-18c237baa9fd"
   },
   "outputs": [
    {
     "data": {
      "text/plain": [
       "[43.69254028216358,\n",
       " 23.221878441339708,\n",
       " 15.720118988918038,\n",
       " 11.057655588246863,\n",
       " 8.640449571500081,\n",
       " 6.3651872433849475,\n",
       " 5.296497638824265,\n",
       " 4.268876762258233,\n",
       " 3.6014651137084575,\n",
       " 3.1763310467063812]"
      ]
     },
     "execution_count": 123,
     "metadata": {},
     "output_type": "execute_result"
    }
   ],
   "source": [
    "k_rng= range(1,11) #range of clusters that we want to calculate for SSE\n",
    "sse=[] #sum squared of error\n",
    "siscore=[]\n",
    "for k in k_rng:\n",
    "    km=KMeans(n_clusters=k)\n",
    "    km.fit(new_df)\n",
    "    sse.append(km.inertia_)\n",
    "    if k>1:\n",
    "        siscore.append(silhouette_score(new_df, labels=km.fit_predict(new_df)))\n",
    "sse"
   ]
  },
  {
   "cell_type": "code",
   "execution_count": 124,
   "metadata": {
    "colab": {
     "base_uri": "https://localhost:8080/",
     "height": 294
    },
    "id": "eJ0KlLeZtO9X",
    "outputId": "d4ef4ddd-1a71-4992-a671-5bbe474c20ee"
   },
   "outputs": [
    {
     "data": {
      "image/png": "[encoded data removed]",
      "text/plain": [
       "<Figure size 432x288 with 1 Axes>"
      ]
     },
     "metadata": {
      "needs_background": "light"
     },
     "output_type": "display_data"
    }
   ],
   "source": [
    "#elbow method graph\n",
    "plt.plot(k_rng, sse)\n",
    "plt.title('Elbow Method')\n",
    "plt.xlabel('Number of Clusters')\n",
    "plt.ylabel('SSE')\n",
    "plt.show()\n",
    "# from the graph, it seems the number optimal number of clusters to be formed is 4"
   ]
  },
  {
   "cell_type": "markdown",
   "metadata": {
    "id": "0sVH1OYruDXw"
   },
   "source": [
    "*   Verify optimal number of clusers on the basis of silhouette scores"
   ]
  },
  {
   "cell_type": "code",
   "execution_count": 125,
   "metadata": {
    "colab": {
     "base_uri": "https://localhost:8080/"
    },
    "id": "HqBaojASGxze",
    "outputId": "439f370d-da3e-462e-b89d-fb3da45037f3",
    "scrolled": true
   },
   "outputs": [
    {
     "data": {
      "text/plain": [
       "[0.7383158930823801,\n",
       " 0.7179608547094287,\n",
       " 0.750608753020104,\n",
       " 0.7243232689889706,\n",
       " 0.7280594109742092,\n",
       " 0.7285729449067393,\n",
       " 0.709854507698622,\n",
       " 0.7068096199021904,\n",
       " 0.7133147621130369]"
      ]
     },
     "execution_count": 125,
     "metadata": {},
     "output_type": "execute_result"
    }
   ],
   "source": [
    "#verify the optimal number of clusters with silhouette scores\n",
    "siscore"
   ]
  },
  {
   "cell_type": "code",
   "execution_count": 126,
   "metadata": {
    "id": "XZ2MoW_nJ3iE"
   },
   "outputs": [
    {
     "data": {
      "image/png": "[encoded data removed]",
      "text/plain": [
       "<Figure size 432x288 with 1 Axes>"
      ]
     },
     "metadata": {
      "needs_background": "light"
     },
     "output_type": "display_data"
    }
   ],
   "source": [
    "#silhouette score graph\n",
    "plt.plot(range(2,11), siscore)\n",
    "plt.xlabel('Number of Clusters')\n",
    "plt.ylabel('silhouette score')\n",
    "plt.show()\n",
    "# from the graph, we can see the optimal number of clusters to be formed is 4"
   ]
  },
  {
   "cell_type": "markdown",
   "metadata": {
    "id": "1u7GiFCL5NYG"
   },
   "source": [
    "*   Assigning cluster label to each instance of the dataframe"
   ]
  },
  {
   "cell_type": "code",
   "execution_count": 127,
   "metadata": {
    "colab": {
     "base_uri": "https://localhost:8080/",
     "height": 362
    },
    "id": "2hliX2IpuxC0",
    "outputId": "3671f544-de90-418d-f114-ea8079edd893"
   },
   "outputs": [
    {
     "data": {
      "text/html": [
       "<div>\n",
       "<style scoped>\n",
       "    .dataframe tbody tr th:only-of-type {\n",
       "        vertical-align: middle;\n",
       "    }\n",
       "\n",
       "    .dataframe tbody tr th {\n",
       "        vertical-align: top;\n",
       "    }\n",
       "\n",
       "    .dataframe thead th {\n",
       "        text-align: right;\n",
       "    }\n",
       "</style>\n",
       "<table border=\"1\" class=\"dataframe\">\n",
       "  <thead>\n",
       "    <tr style=\"text-align: right;\">\n",
       "      <th></th>\n",
       "      <th>num_loves</th>\n",
       "      <th>num_hahas</th>\n",
       "      <th>Label_cluster</th>\n",
       "    </tr>\n",
       "  </thead>\n",
       "  <tbody>\n",
       "    <tr>\n",
       "      <th>0</th>\n",
       "      <td>0.105183</td>\n",
       "      <td>0.006410</td>\n",
       "      <td>2</td>\n",
       "    </tr>\n",
       "    <tr>\n",
       "      <th>1</th>\n",
       "      <td>0.047256</td>\n",
       "      <td>0.000000</td>\n",
       "      <td>0</td>\n",
       "    </tr>\n",
       "    <tr>\n",
       "      <th>2</th>\n",
       "      <td>0.006098</td>\n",
       "      <td>0.000000</td>\n",
       "      <td>0</td>\n",
       "    </tr>\n",
       "    <tr>\n",
       "      <th>3</th>\n",
       "      <td>0.003049</td>\n",
       "      <td>0.000000</td>\n",
       "      <td>0</td>\n",
       "    </tr>\n",
       "    <tr>\n",
       "      <th>4</th>\n",
       "      <td>0.009146</td>\n",
       "      <td>0.000000</td>\n",
       "      <td>0</td>\n",
       "    </tr>\n",
       "    <tr>\n",
       "      <th>5</th>\n",
       "      <td>0.006098</td>\n",
       "      <td>0.000000</td>\n",
       "      <td>0</td>\n",
       "    </tr>\n",
       "    <tr>\n",
       "      <th>6</th>\n",
       "      <td>0.007622</td>\n",
       "      <td>0.000000</td>\n",
       "      <td>0</td>\n",
       "    </tr>\n",
       "    <tr>\n",
       "      <th>7</th>\n",
       "      <td>0.010671</td>\n",
       "      <td>0.000000</td>\n",
       "      <td>0</td>\n",
       "    </tr>\n",
       "    <tr>\n",
       "      <th>8</th>\n",
       "      <td>0.013720</td>\n",
       "      <td>0.000000</td>\n",
       "      <td>0</td>\n",
       "    </tr>\n",
       "    <tr>\n",
       "      <th>9</th>\n",
       "      <td>0.033537</td>\n",
       "      <td>0.025641</td>\n",
       "      <td>0</td>\n",
       "    </tr>\n",
       "  </tbody>\n",
       "</table>\n",
       "</div>"
      ],
      "text/plain": [
       "   num_loves  num_hahas  Label_cluster\n",
       "0   0.105183   0.006410              2\n",
       "1   0.047256   0.000000              0\n",
       "2   0.006098   0.000000              0\n",
       "3   0.003049   0.000000              0\n",
       "4   0.009146   0.000000              0\n",
       "5   0.006098   0.000000              0\n",
       "6   0.007622   0.000000              0\n",
       "7   0.010671   0.000000              0\n",
       "8   0.013720   0.000000              0\n",
       "9   0.033537   0.025641              0"
      ]
     },
     "execution_count": 127,
     "metadata": {},
     "output_type": "execute_result"
    }
   ],
   "source": [
    "#kmeans for 3 cluster\n",
    "kmeans1=KMeans(n_clusters=4)\n",
    "#assigning cluster label to each instance of the dataframe\n",
    "new_df['Label_cluster']=kmeans1.fit_predict(new_df)\n",
    "new_df.head(10)"
   ]
  },
  {
   "cell_type": "code",
   "execution_count": 128,
   "metadata": {
    "id": "u9b44msZwvwU"
   },
   "outputs": [],
   "source": [
    "#cluster 1\n",
    "clus_1=new_df[new_df['Label_cluster'] == 0]\n",
    "#cluster 2\n",
    "clus_2=new_df[new_df['Label_cluster'] == 1]\n",
    "#cluster 3\n",
    "clus_3=new_df[new_df['Label_cluster'] == 2]\n",
    "#cluster 4\n",
    "clus_4=new_df[new_df['Label_cluster'] == 3]"
   ]
  },
  {
   "cell_type": "code",
   "execution_count": 129,
   "metadata": {
    "colab": {
     "base_uri": "https://localhost:8080/"
    },
    "id": "8wa1aaZz15oV",
    "outputId": "035ff68c-e59c-4403-f099-74a3f99c1aac"
   },
   "outputs": [
    {
     "data": {
      "text/plain": [
       "array([[0.00808491, 0.00569417],\n",
       "       [0.42476287, 0.08732194],\n",
       "       [0.12362855, 0.01342114],\n",
       "       [0.00830793, 0.172151  ]])"
      ]
     },
     "execution_count": 129,
     "metadata": {},
     "output_type": "execute_result"
    }
   ],
   "source": [
    "#centroid of each clusters\n",
    "centroids=kmeans1.cluster_centers_\n",
    "centroids"
   ]
  },
  {
   "cell_type": "code",
   "execution_count": 130,
   "metadata": {
    "colab": {
     "base_uri": "https://localhost:8080/",
     "height": 374
    },
    "id": "6MUDkLzfzdQi",
    "outputId": "37069d2e-0e75-47d5-f39f-306ccdff4559",
    "scrolled": true
   },
   "outputs": [
    {
     "data": {
      "image/png": "[encoded data removed]",
      "text/plain": [
       "<Figure size 864x432 with 1 Axes>"
      ]
     },
     "metadata": {
      "needs_background": "light"
     },
     "output_type": "display_data"
    }
   ],
   "source": [
    "#plot the clustering result in scatter graph\n",
    "plt.figure(figsize=(12,6))\n",
    "sizes=15\n",
    "plt.scatter(clus_1[col[0]], clus_1[col[1]], c='red', label='cluster 1', s=sizes)\n",
    "plt.scatter(clus_2[col[0]], clus_2[col[1]], c='blue', label='cluster 2', s=sizes)\n",
    "plt.scatter(clus_3[col[0]], clus_3[col[1]], c='green', label='cluster 3', s=sizes)\n",
    "plt.scatter(clus_4[col[0]], clus_4[col[1]], c='yellow', label='cluster 4', s=sizes)\n",
    "plt.scatter(centroids[:, 0], centroids[:, 1], c= 'black', s=sizes*4, label='centroid', marker='^')\n",
    "plt.xlabel([col[0]])\n",
    "plt.ylabel([col[1]])\n",
    "plt.legend()\n",
    "plt.show()"
   ]
  },
  {
   "cell_type": "markdown",
   "metadata": {
    "id": "3KEjGebF5Rr2"
   },
   "source": [
    "*   Validating obtained clusters using external cluster validation approaches like rand_score and adjusted_rand_score"
   ]
  },
  {
   "cell_type": "code",
   "execution_count": 131,
   "metadata": {
    "scrolled": true
   },
   "outputs": [
    {
     "data": {
      "text/plain": [
       "0.051108309182722196"
      ]
     },
     "execution_count": 131,
     "metadata": {},
     "output_type": "execute_result"
    }
   ],
   "source": [
    "#i cant find any external validation data to be validate with my clustering result. I am confused with this section, please just give me more guide/clues for this section\n",
    "from sklearn.metrics import adjusted_rand_score\n",
    "labels=kmeans1.fit_predict(new_df)\n",
    "\n",
    "adj_rand_score=adjusted_rand_score(df.status_type, labels)\n",
    "adj_rand_score"
   ]
  },
  {
   "cell_type": "markdown",
   "metadata": {
    "id": "9P9m4XFNF82H"
   },
   "source": [
    "###**Task 3: Perform PCA on Fruit Dataset**\n",
    "\n",
    "Fruit Dataset Link: https://raw.githubusercontent.com/dphi-official/Datasets/master/fruit_data.csv\n",
    "\n",
    "* Use PCA to find the first two principal components of the fruit dataset\n",
    "* Scale the value. Each feature should be centered (zero mean) and with unit variance\n"
   ]
  },
  {
   "cell_type": "code",
   "execution_count": 143,
   "metadata": {
    "scrolled": false
   },
   "outputs": [
    {
     "data": {
      "text/html": [
       "<div>\n",
       "<style scoped>\n",
       "    .dataframe tbody tr th:only-of-type {\n",
       "        vertical-align: middle;\n",
       "    }\n",
       "\n",
       "    .dataframe tbody tr th {\n",
       "        vertical-align: top;\n",
       "    }\n",
       "\n",
       "    .dataframe thead th {\n",
       "        text-align: right;\n",
       "    }\n",
       "</style>\n",
       "<table border=\"1\" class=\"dataframe\">\n",
       "  <thead>\n",
       "    <tr style=\"text-align: right;\">\n",
       "      <th></th>\n",
       "      <th>fruit_label</th>\n",
       "      <th>mass</th>\n",
       "      <th>width</th>\n",
       "      <th>height</th>\n",
       "      <th>color_score</th>\n",
       "    </tr>\n",
       "  </thead>\n",
       "  <tbody>\n",
       "    <tr>\n",
       "      <th>0</th>\n",
       "      <td>1</td>\n",
       "      <td>192</td>\n",
       "      <td>8.4</td>\n",
       "      <td>7.3</td>\n",
       "      <td>0.55</td>\n",
       "    </tr>\n",
       "    <tr>\n",
       "      <th>1</th>\n",
       "      <td>1</td>\n",
       "      <td>180</td>\n",
       "      <td>8.0</td>\n",
       "      <td>6.8</td>\n",
       "      <td>0.59</td>\n",
       "    </tr>\n",
       "    <tr>\n",
       "      <th>2</th>\n",
       "      <td>1</td>\n",
       "      <td>176</td>\n",
       "      <td>7.4</td>\n",
       "      <td>7.2</td>\n",
       "      <td>0.60</td>\n",
       "    </tr>\n",
       "    <tr>\n",
       "      <th>3</th>\n",
       "      <td>2</td>\n",
       "      <td>86</td>\n",
       "      <td>6.2</td>\n",
       "      <td>4.7</td>\n",
       "      <td>0.80</td>\n",
       "    </tr>\n",
       "    <tr>\n",
       "      <th>4</th>\n",
       "      <td>2</td>\n",
       "      <td>84</td>\n",
       "      <td>6.0</td>\n",
       "      <td>4.6</td>\n",
       "      <td>0.79</td>\n",
       "    </tr>\n",
       "  </tbody>\n",
       "</table>\n",
       "</div>"
      ],
      "text/plain": [
       "   fruit_label  mass  width  height  color_score\n",
       "0            1   192    8.4     7.3         0.55\n",
       "1            1   180    8.0     6.8         0.59\n",
       "2            1   176    7.4     7.2         0.60\n",
       "3            2    86    6.2     4.7         0.80\n",
       "4            2    84    6.0     4.6         0.79"
      ]
     },
     "execution_count": 143,
     "metadata": {},
     "output_type": "execute_result"
    }
   ],
   "source": [
    "df1=pd.read_csv('https://raw.githubusercontent.com/dphi-official/Datasets/master/fruit_data.csv')\n",
    "df1.head()"
   ]
  },
  {
   "cell_type": "code",
   "execution_count": 133,
   "metadata": {
    "scrolled": true
   },
   "outputs": [
    {
     "name": "stdout",
     "output_type": "stream",
     "text": [
      "   mass  width  height  color_score\n",
      "0   192    8.4     7.3         0.55\n",
      "1   180    8.0     6.8         0.59\n",
      "2   176    7.4     7.2         0.60\n",
      "3    86    6.2     4.7         0.80\n",
      "4    84    6.0     4.6         0.79\n",
      "0    1\n",
      "1    1\n",
      "2    1\n",
      "3    2\n",
      "4    2\n",
      "Name: fruit_label, dtype: int64\n"
     ]
    }
   ],
   "source": [
    "#split data into features (x) and labels (y)\n",
    "X=df1.iloc[:, 1:5]\n",
    "Y=df1.iloc[:, 0]\n",
    "print(X.head())\n",
    "print(Y.head())"
   ]
  },
  {
   "cell_type": "code",
   "execution_count": 134,
   "metadata": {},
   "outputs": [
    {
     "data": {
      "text/html": [
       "<div>\n",
       "<style scoped>\n",
       "    .dataframe tbody tr th:only-of-type {\n",
       "        vertical-align: middle;\n",
       "    }\n",
       "\n",
       "    .dataframe tbody tr th {\n",
       "        vertical-align: top;\n",
       "    }\n",
       "\n",
       "    .dataframe thead th {\n",
       "        text-align: right;\n",
       "    }\n",
       "</style>\n",
       "<table border=\"1\" class=\"dataframe\">\n",
       "  <thead>\n",
       "    <tr style=\"text-align: right;\">\n",
       "      <th></th>\n",
       "      <th>mass</th>\n",
       "      <th>width</th>\n",
       "      <th>height</th>\n",
       "      <th>color_score</th>\n",
       "    </tr>\n",
       "  </thead>\n",
       "  <tbody>\n",
       "    <tr>\n",
       "      <th>0</th>\n",
       "      <td>0.529442</td>\n",
       "      <td>1.598690</td>\n",
       "      <td>-0.291397</td>\n",
       "      <td>-2.793595</td>\n",
       "    </tr>\n",
       "    <tr>\n",
       "      <th>1</th>\n",
       "      <td>0.309462</td>\n",
       "      <td>1.104854</td>\n",
       "      <td>-0.661922</td>\n",
       "      <td>-2.268684</td>\n",
       "    </tr>\n",
       "    <tr>\n",
       "      <th>2</th>\n",
       "      <td>0.236136</td>\n",
       "      <td>0.364100</td>\n",
       "      <td>-0.365502</td>\n",
       "      <td>-2.137456</td>\n",
       "    </tr>\n",
       "    <tr>\n",
       "      <th>3</th>\n",
       "      <td>-1.413709</td>\n",
       "      <td>-1.117409</td>\n",
       "      <td>-2.218131</td>\n",
       "      <td>0.487100</td>\n",
       "    </tr>\n",
       "    <tr>\n",
       "      <th>4</th>\n",
       "      <td>-1.450372</td>\n",
       "      <td>-1.364327</td>\n",
       "      <td>-2.292236</td>\n",
       "      <td>0.355872</td>\n",
       "    </tr>\n",
       "  </tbody>\n",
       "</table>\n",
       "</div>"
      ],
      "text/plain": [
       "       mass     width    height  color_score\n",
       "0  0.529442  1.598690 -0.291397    -2.793595\n",
       "1  0.309462  1.104854 -0.661922    -2.268684\n",
       "2  0.236136  0.364100 -0.365502    -2.137456\n",
       "3 -1.413709 -1.117409 -2.218131     0.487100\n",
       "4 -1.450372 -1.364327 -2.292236     0.355872"
      ]
     },
     "execution_count": 134,
     "metadata": {},
     "output_type": "execute_result"
    }
   ],
   "source": [
    "#feature scaling to centering teh data points with unit variance\n",
    "from sklearn.preprocessing import StandardScaler\n",
    "scaler=StandardScaler()\n",
    "scaler.fit(X)\n",
    "X_scaled_array = scaler.transform(X)\n",
    "X_scaled=pd.DataFrame(X_scaled_array, columns =X.columns)\n",
    "\n",
    "X_scaled.head()"
   ]
  },
  {
   "cell_type": "code",
   "execution_count": 135,
   "metadata": {},
   "outputs": [
    {
     "data": {
      "text/html": [
       "<div>\n",
       "<style scoped>\n",
       "    .dataframe tbody tr th:only-of-type {\n",
       "        vertical-align: middle;\n",
       "    }\n",
       "\n",
       "    .dataframe tbody tr th {\n",
       "        vertical-align: top;\n",
       "    }\n",
       "\n",
       "    .dataframe thead th {\n",
       "        text-align: right;\n",
       "    }\n",
       "</style>\n",
       "<table border=\"1\" class=\"dataframe\">\n",
       "  <thead>\n",
       "    <tr style=\"text-align: right;\">\n",
       "      <th></th>\n",
       "      <th>PC1</th>\n",
       "      <th>PC2</th>\n",
       "    </tr>\n",
       "  </thead>\n",
       "  <tbody>\n",
       "    <tr>\n",
       "      <th>0</th>\n",
       "      <td>1.572169</td>\n",
       "      <td>-1.980044</td>\n",
       "    </tr>\n",
       "    <tr>\n",
       "      <th>1</th>\n",
       "      <td>0.878417</td>\n",
       "      <td>-1.579373</td>\n",
       "    </tr>\n",
       "    <tr>\n",
       "      <th>2</th>\n",
       "      <td>0.529773</td>\n",
       "      <td>-1.732891</td>\n",
       "    </tr>\n",
       "    <tr>\n",
       "      <th>3</th>\n",
       "      <td>-2.712610</td>\n",
       "      <td>0.414674</td>\n",
       "    </tr>\n",
       "    <tr>\n",
       "      <th>4</th>\n",
       "      <td>-2.893412</td>\n",
       "      <td>0.242003</td>\n",
       "    </tr>\n",
       "  </tbody>\n",
       "</table>\n",
       "</div>"
      ],
      "text/plain": [
       "        PC1       PC2\n",
       "0  1.572169 -1.980044\n",
       "1  0.878417 -1.579373\n",
       "2  0.529773 -1.732891\n",
       "3 -2.712610  0.414674\n",
       "4 -2.893412  0.242003"
      ]
     },
     "execution_count": 135,
     "metadata": {},
     "output_type": "execute_result"
    }
   ],
   "source": [
    "from sklearn.decomposition import PCA\n",
    "#mash the data down into 2 dimensions\n",
    "n_dimension=2\n",
    "pca=PCA(n_components=n_dimension)\n",
    "pca.fit(X_scaled)\n",
    "\n",
    "X_pca_array=pca.transform(X_scaled)\n",
    "X_pca=pd.DataFrame(X_pca_array, columns=['PC1', 'PC2'])\n",
    "#we got the 2d coordinate for each data point\n",
    "X_pca.head()"
   ]
  },
  {
   "cell_type": "code",
   "execution_count": 144,
   "metadata": {
    "scrolled": true
   },
   "outputs": [
    {
     "data": {
      "text/html": [
       "<div>\n",
       "<style scoped>\n",
       "    .dataframe tbody tr th:only-of-type {\n",
       "        vertical-align: middle;\n",
       "    }\n",
       "\n",
       "    .dataframe tbody tr th {\n",
       "        vertical-align: top;\n",
       "    }\n",
       "\n",
       "    .dataframe thead th {\n",
       "        text-align: right;\n",
       "    }\n",
       "</style>\n",
       "<table border=\"1\" class=\"dataframe\">\n",
       "  <thead>\n",
       "    <tr style=\"text-align: right;\">\n",
       "      <th></th>\n",
       "      <th>PC1</th>\n",
       "      <th>PC2</th>\n",
       "      <th>PC3</th>\n",
       "      <th>PC4</th>\n",
       "      <th>fruit label</th>\n",
       "    </tr>\n",
       "  </thead>\n",
       "  <tbody>\n",
       "    <tr>\n",
       "      <th>0</th>\n",
       "      <td>1.572169</td>\n",
       "      <td>-1.980044</td>\n",
       "      <td>2.048688</td>\n",
       "      <td>-0.368504</td>\n",
       "      <td>1</td>\n",
       "    </tr>\n",
       "    <tr>\n",
       "      <th>1</th>\n",
       "      <td>0.878417</td>\n",
       "      <td>-1.579373</td>\n",
       "      <td>1.899455</td>\n",
       "      <td>-0.166053</td>\n",
       "      <td>1</td>\n",
       "    </tr>\n",
       "    <tr>\n",
       "      <th>2</th>\n",
       "      <td>0.529773</td>\n",
       "      <td>-1.732891</td>\n",
       "      <td>1.258227</td>\n",
       "      <td>0.154708</td>\n",
       "      <td>1</td>\n",
       "    </tr>\n",
       "    <tr>\n",
       "      <th>3</th>\n",
       "      <td>-2.712610</td>\n",
       "      <td>0.414674</td>\n",
       "      <td>0.923164</td>\n",
       "      <td>0.148685</td>\n",
       "      <td>2</td>\n",
       "    </tr>\n",
       "    <tr>\n",
       "      <th>4</th>\n",
       "      <td>-2.893412</td>\n",
       "      <td>0.242003</td>\n",
       "      <td>0.909229</td>\n",
       "      <td>0.298106</td>\n",
       "      <td>2</td>\n",
       "    </tr>\n",
       "  </tbody>\n",
       "</table>\n",
       "</div>"
      ],
      "text/plain": [
       "        PC1       PC2       PC3       PC4  fruit label\n",
       "0  1.572169 -1.980044  2.048688 -0.368504            1\n",
       "1  0.878417 -1.579373  1.899455 -0.166053            1\n",
       "2  0.529773 -1.732891  1.258227  0.154708            1\n",
       "3 -2.712610  0.414674  0.923164  0.148685            2\n",
       "4 -2.893412  0.242003  0.909229  0.298106            2"
      ]
     },
     "execution_count": 144,
     "metadata": {},
     "output_type": "execute_result"
    }
   ],
   "source": [
    "#add the fruit label into each coordinate data point so we can use it later in the pot\n",
    "X_pca['fruit label']=Y\n",
    "X_pca.head()"
   ]
  },
  {
   "cell_type": "code",
   "execution_count": 137,
   "metadata": {},
   "outputs": [],
   "source": [
    "#so now we can make a 2d scatter plot of the cluster\n",
    "def plotdata(df, groupby):\n",
    "    fig, ax=plt.subplots(figsize=(10,10))\n",
    "    cmap=mpl.cm.get_cmap('prism')\n",
    "    \n",
    "    for i,cluster in df.groupby(groupby):\n",
    "        cluster.plot(ax=ax,\n",
    "                     kind='scatter',\n",
    "                     x='PC1', y='PC2',\n",
    "                     color=cmap(i/(4)),\n",
    "                     \n",
    "                     label=\"%s %i\" % (groupby, i),\n",
    "                     s=30)\n",
    "    ax.grid()\n",
    "    ax.axhline(0, color='black')\n",
    "    ax.axvline(0, color='black')\n",
    "    ax.set_title(\"Principal Components Analysis (PCA) of fruit dataset\");"
   ]
  },
  {
   "cell_type": "code",
   "execution_count": 138,
   "metadata": {
    "scrolled": true
   },
   "outputs": [
    {
     "data": {
      "image/png": "[encoded data removed]",
      "text/plain": [
       "<Figure size 720x720 with 1 Axes>"
      ]
     },
     "metadata": {
      "needs_background": "light"
     },
     "output_type": "display_data"
    }
   ],
   "source": [
    "plotdata(X_pca, 'fruit label')"
   ]
  },
  {
   "cell_type": "markdown",
   "metadata": {
    "id": "9P9m4XFNF82H"
   },
   "source": [
    "* Analysis - perform PCA with 4 components and print their explained variance_ratio\n",
    "\n"
   ]
  },
  {
   "cell_type": "code",
   "execution_count": 139,
   "metadata": {
    "scrolled": true
   },
   "outputs": [
    {
     "data": {
      "text/html": [
       "<div>\n",
       "<style scoped>\n",
       "    .dataframe tbody tr th:only-of-type {\n",
       "        vertical-align: middle;\n",
       "    }\n",
       "\n",
       "    .dataframe tbody tr th {\n",
       "        vertical-align: top;\n",
       "    }\n",
       "\n",
       "    .dataframe thead th {\n",
       "        text-align: right;\n",
       "    }\n",
       "</style>\n",
       "<table border=\"1\" class=\"dataframe\">\n",
       "  <thead>\n",
       "    <tr style=\"text-align: right;\">\n",
       "      <th></th>\n",
       "      <th>PC1</th>\n",
       "      <th>PC2</th>\n",
       "      <th>PC3</th>\n",
       "      <th>PC4</th>\n",
       "    </tr>\n",
       "  </thead>\n",
       "  <tbody>\n",
       "    <tr>\n",
       "      <th>0</th>\n",
       "      <td>1.572169</td>\n",
       "      <td>-1.980044</td>\n",
       "      <td>2.048688</td>\n",
       "      <td>-0.368504</td>\n",
       "    </tr>\n",
       "    <tr>\n",
       "      <th>1</th>\n",
       "      <td>0.878417</td>\n",
       "      <td>-1.579373</td>\n",
       "      <td>1.899455</td>\n",
       "      <td>-0.166053</td>\n",
       "    </tr>\n",
       "    <tr>\n",
       "      <th>2</th>\n",
       "      <td>0.529773</td>\n",
       "      <td>-1.732891</td>\n",
       "      <td>1.258227</td>\n",
       "      <td>0.154708</td>\n",
       "    </tr>\n",
       "    <tr>\n",
       "      <th>3</th>\n",
       "      <td>-2.712610</td>\n",
       "      <td>0.414674</td>\n",
       "      <td>0.923164</td>\n",
       "      <td>0.148685</td>\n",
       "    </tr>\n",
       "    <tr>\n",
       "      <th>4</th>\n",
       "      <td>-2.893412</td>\n",
       "      <td>0.242003</td>\n",
       "      <td>0.909229</td>\n",
       "      <td>0.298106</td>\n",
       "    </tr>\n",
       "  </tbody>\n",
       "</table>\n",
       "</div>"
      ],
      "text/plain": [
       "        PC1       PC2       PC3       PC4\n",
       "0  1.572169 -1.980044  2.048688 -0.368504\n",
       "1  0.878417 -1.579373  1.899455 -0.166053\n",
       "2  0.529773 -1.732891  1.258227  0.154708\n",
       "3 -2.712610  0.414674  0.923164  0.148685\n",
       "4 -2.893412  0.242003  0.909229  0.298106"
      ]
     },
     "execution_count": 139,
     "metadata": {},
     "output_type": "execute_result"
    }
   ],
   "source": [
    "from sklearn.decomposition import PCA\n",
    "#mash the data down into 4 dimensions\n",
    "n_dimension=4\n",
    "pca=PCA(n_components=n_dimension)\n",
    "pca.fit(X_scaled)\n",
    "\n",
    "X_pca_array=pca.transform(X_scaled)\n",
    "X_pca=pd.DataFrame(X_pca_array, columns=['PC1', 'PC2', 'PC3', 'PC4'])\n",
    "#we got the coordinate for each data point\n",
    "X_pca.head()"
   ]
  },
  {
   "cell_type": "code",
   "execution_count": 140,
   "metadata": {},
   "outputs": [
    {
     "data": {
      "image/png": "[encoded data removed]",
      "text/plain": [
       "<Figure size 432x288 with 1 Axes>"
      ]
     },
     "metadata": {
      "needs_background": "light"
     },
     "output_type": "display_data"
    }
   ],
   "source": [
    "#calculate the percentage of variation that each principal component accounts for\n",
    "per_var=np.round(pca.explained_variance_ratio_*100, decimals=1)\n",
    "labels = X_pca.columns\n",
    "plt.bar(x=range(1, len(per_var)+1), height=per_var, tick_label=labels)\n",
    "plt.ylabel('Percentage of Explained Variance')\n",
    "plt.xlabel('Principal Component')\n",
    "plt.title('Scree Plot')\n",
    "plt.show()\n",
    "#More half of variatio is along the PC1 and PC2. So 2-D graph, using PC1 and PC2, should do a good job representing the original data"
   ]
  },
  {
   "cell_type": "code",
   "execution_count": 141,
   "metadata": {},
   "outputs": [
    {
     "data": {
      "image/png": "[encoded data removed]",
      "text/plain": [
       "<Figure size 432x288 with 1 Axes>"
      ]
     },
     "metadata": {
      "needs_background": "light"
     },
     "output_type": "display_data"
    }
   ],
   "source": [
    "#2D graph with PC1 and PC2\n",
    "plt.scatter(X_pca.PC1, X_pca.PC2)\n",
    "plt.title('My PCA Graph')\n",
    "plt.xlabel('PC1 - {0}%'.format(per_var[0]))\n",
    "plt.ylabel('PC2 - {0}%'.format(per_var[1]))\n",
    "plt.show()"
   ]
  },
  {
   "cell_type": "code",
   "execution_count": 142,
   "metadata": {
    "scrolled": true
   },
   "outputs": [
    {
     "name": "stdout",
     "output_type": "stream",
     "text": [
      "[0.57845054 0.25650171 0.14402362 0.02102413]\n"
     ]
    }
   ],
   "source": [
    "#PRINT RESULT FOR EXPLAINED VARIANCE RATIO\n",
    "print(pca.explained_variance_ratio_)"
   ]
  }
 ],
 "metadata": {
  "colab": {
   "collapsed_sections": [],
   "name": "Unsupervised Learning Bootcamp Graded Hands-on Exercise.ipynb",
   "provenance": []
  },
  "kernelspec": {
   "display_name": "Python 3 (ipykernel)",
   "language": "python",
   "name": "python3"
  },
  "language_info": {
   "codemirror_mode": {
    "name": "ipython",
    "version": 3
   },
   "file_extension": ".py",
   "mimetype": "text/x-python",
   "name": "python",
   "nbconvert_exporter": "python",
   "pygments_lexer": "ipython3",
   "version": "3.9.7"
  }
 },
 "nbformat": 4,
 "nbformat_minor": 1
}
